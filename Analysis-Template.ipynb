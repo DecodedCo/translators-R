{
 "cells": [
  {
   "cell_type": "markdown",
   "metadata": {
    "deletable": true,
    "editable": true
   },
   "source": [
    "## Introduction\n",
    "\n",
    "We want to analyse loans in order to predict likelihood of default.\n",
    "\n",
    "You will try to use:\n",
    "* <strong>Decision trees</strong>\n",
    "* <strong>Random forests</strong>\n",
    "* <strong>Neural networks</strong>\n",
    "\n",
    "Try to adapt the models in order to improve how well they predict Default. Use the MSE in order to assess performance."
   ]
  },
  {
   "cell_type": "code",
   "execution_count": null,
   "metadata": {
    "collapsed": true
   },
   "outputs": [],
   "source": [
    "# Fix plot size\n",
    "options(repr.plot.width=5, repr.plot.height=5)\n",
    "\n",
    "set.seed(7293749)\n",
    "\n",
    "library(randomForest) #rf\n",
    "library(neuralnet) #nn \n",
    "library(MASS) \n",
    "library(rpart) #decision tree\n",
    "library(e1071) #svm\n",
    "\n",
    "scaled = read.csv(\"output_scaled_sample_data.csv\",head=T) #scaled data set\n",
    "\n",
    "# keep a small chunk of the data so that the notebook can handle it\n",
    "scaled = scaled[1:1000,]\n",
    "\n",
    "index = sample(1:nrow(scaled),round(0.75*nrow(scaled))) #select the rows for the training set\n",
    "\n",
    "# Split the data into a training set and a test set\n",
    "train_ = scaled[index,]\n",
    "test_ = scaled[-index,]\n",
    "\n",
    "# Attach the data so we can refer to the column names\n",
    "attach(train_)"
   ]
  },
  {
   "cell_type": "markdown",
   "metadata": {
    "deletable": true,
    "editable": true
   },
   "source": [
    "First, load the libraries and data that we will use."
   ]
  },
  {
   "cell_type": "markdown",
   "metadata": {
    "deletable": true,
    "editable": true
   },
   "source": [
    "Before doing any analysis, take a quick peak at what's in the data:"
   ]
  },
  {
   "cell_type": "code",
   "execution_count": null,
   "metadata": {
    "collapsed": true
   },
   "outputs": [],
   "source": [
    "head(train_)"
   ]
  },
  {
   "cell_type": "markdown",
   "metadata": {
    "deletable": true,
    "editable": true
   },
   "source": [
    "## Decision Trees"
   ]
  },
  {
   "cell_type": "markdown",
   "metadata": {
    "deletable": true,
    "editable": true
   },
   "source": [
    "The input parameters are:\n",
    "\n",
    "* `minsplit`: minimum number of observations for a split to happen *cp: a split must decrease the overall lack of fit by a factor of 0.001 (cost complexity factor) before being attempted\n",
    "* `method` is \"class\" for classification and \"anova\" for regression\n",
    "\n",
    "See if by changing the input parameters below you can improve the MSE."
   ]
  },
  {
   "cell_type": "code",
   "execution_count": null,
   "metadata": {
    "collapsed": true
   },
   "outputs": [],
   "source": [
    "minsplit = 30\n",
    "cp = 0.001\n",
    "method = \"anova\"\n",
    "\n",
    "output.decisionTree = rpart(Default~., data=train_,control=rpart.control(minsplit=minsplit, cp=cp),method=method)\n",
    "\n",
    "plot(output.decisionTree, uniform=TRUE, main=\"Classification Tree\")\n",
    "text(output.decisionTree, use.n=TRUE, all=TRUE, cex=.8)\n",
    "\n",
    "# # variable importance\n",
    "# summary(output.decisionTree)\n",
    "\n",
    "# predictions on new data\n",
    "predictions = predict(output.decisionTree, test_)\n",
    "\n",
    "# asseessment\n",
    "plot(test_$Default, predictions, xlab=\"original\",ylab=\"predicted\",bty=\"n\",pch=16, col=\"orange\")\n",
    "MSE = sum((predictions - test_$Default)^2)/nrow(test_)\n",
    "cat(\"The MSE for this decision tree is \", MSE, \"\\n\")\n"
   ]
  },
  {
   "cell_type": "markdown",
   "metadata": {
    "collapsed": true,
    "deletable": true,
    "editable": true
   },
   "source": [
    "## RANDOM FOREST\n",
    "\n",
    "The input parameters are:\n",
    "\n",
    "* `ntree`: Number of trees to grow.\n",
    "* `nodesize`: Minimum size of terminal nodes.\n",
    "\n",
    "See if by changing the input parameters below you can improve the MSE."
   ]
  },
  {
   "cell_type": "code",
   "execution_count": null,
   "metadata": {
    "collapsed": true
   },
   "outputs": [],
   "source": [
    "#load the relevant library\n",
    "library(randomForest)\n",
    "\n",
    "ntree = 10\n",
    "nodesize = 3\n",
    "\n",
    "output.forest = randomForest(Default ~ ., data = train_, ntree=ntree, nodesize = nodesize)\n",
    "# variable importance\n",
    "print(importance(output.forest,type = 2)) \n",
    "\n",
    "# predictions on new data\n",
    "predictions = predict(output.forest, test_)\n",
    "\n",
    "# asseessment\n",
    "plot(test_$Default, predictions, xlab=\"original\",ylab=\"predicted\",bty=\"n\",pch=16, col=\"orange\");\n",
    "MSE = sum((predictions - test_$Default)^2)/nrow(test_)\n",
    "cat(\"The MSE for this random forest is: \",MSE,\"\\n\")"
   ]
  },
  {
   "cell_type": "markdown",
   "metadata": {
    "deletable": true,
    "editable": true
   },
   "source": [
    "## NEURAL NETWORK\n",
    "\n",
    "The input parameters are:\n",
    "\n",
    "* `hidden` in the form of c(n,m) for n neurons for each of m hidden layers\n",
    "* `rep` the number of repetitions for the neural network’s training.\n",
    "\n",
    "See if by changing the input parameters below you can improve the MSE."
   ]
  },
  {
   "cell_type": "code",
   "execution_count": null,
   "metadata": {
    "collapsed": true
   },
   "outputs": [],
   "source": [
    "hidden = c(2,1) # start small; you might be dealing with a bigger data set than you think\n",
    "rep = 1\n",
    "\n",
    "n = names(train_)\n",
    "f = as.formula(paste(\"Default ~\", paste(n[!n %in% \"Default\"], collapse = \" + \")))\n",
    "output.nn = neuralnet(f,data=train_,hidden=hidden,linear.output=T,rep=rep) \n",
    "\n",
    "# predictions on new data\n",
    "predictions = compute(output.nn, test_[,c(1:7,9:10)])$net.result\n",
    "\n",
    "# asseessment\n",
    "plot(test_$Default, predictions, xlab=\"original\",ylab=\"predicted\",bty=\"n\",pch=16, col=\"orange\");\n",
    "MSE = sum((predictions - test_$Default)^2)/nrow(test_)\n",
    "cat(\"The MSE for the NN is: \",MSE,\"\\n\")"
   ]
  }
 ],
 "metadata": {
  "kernelspec": {
   "display_name": "R",
   "language": "R",
   "name": "ir"
  },
  "language_info": {
   "codemirror_mode": "r",
   "file_extension": ".r",
   "mimetype": "text/x-r-source",
   "name": "R",
   "pygments_lexer": "r",
   "version": "3.3.3"
  }
 },
 "nbformat": 4,
 "nbformat_minor": 2
}
